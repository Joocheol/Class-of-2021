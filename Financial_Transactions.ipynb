{
  "nbformat": 4,
  "nbformat_minor": 0,
  "metadata": {
    "colab": {
      "name": "Financial Transactions",
      "provenance": [],
      "authorship_tag": "ABX9TyNoJ3Fom9lJipNXWhVJudkU",
      "include_colab_link": true
    },
    "kernelspec": {
      "name": "python3",
      "display_name": "Python 3"
    }
  },
  "cells": [
    {
      "cell_type": "markdown",
      "metadata": {
        "id": "view-in-github",
        "colab_type": "text"
      },
      "source": [
        "<a href=\"https://colab.research.google.com/github/Joocheol/Class-of-2021/blob/main/Financial_Transactions.ipynb\" target=\"_parent\"><img src=\"https://colab.research.google.com/assets/colab-badge.svg\" alt=\"Open In Colab\"/></a>"
      ]
    },
    {
      "cell_type": "markdown",
      "metadata": {
        "id": "YLFtKZAuWOw7"
      },
      "source": [
        "## Different types of transactions\r\n"
      ]
    },
    {
      "cell_type": "markdown",
      "metadata": {
        "id": "DPMNZsA-XRQj"
      },
      "source": [
        "There are always two parties involved in any transactions. One party is called a buyer and the other is a seller.\r\n",
        "\r\n",
        "It seems obvious which side is a buyer and which side is a seller. But, in some financial transactions, it might be confusing.\r\n",
        "\r\n",
        "For instance, suppose that you want to buy dollars with your own currency. "
      ]
    },
    {
      "cell_type": "code",
      "metadata": {
        "id": "1Y8nMDGsWAtB"
      },
      "source": [
        ""
      ],
      "execution_count": null,
      "outputs": []
    }
  ]
}