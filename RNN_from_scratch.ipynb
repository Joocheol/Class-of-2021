{
  "nbformat": 4,
  "nbformat_minor": 0,
  "metadata": {
    "colab": {
      "name": "RNN from scratch",
      "provenance": [],
      "collapsed_sections": [],
      "authorship_tag": "ABX9TyPjNWt/C5k9+nq1+nur8Md/",
      "include_colab_link": true
    },
    "kernelspec": {
      "name": "python3",
      "display_name": "Python 3"
    }
  },
  "cells": [
    {
      "cell_type": "markdown",
      "metadata": {
        "id": "view-in-github",
        "colab_type": "text"
      },
      "source": [
        "<a href=\"https://colab.research.google.com/github/Joocheol/Class-of-2021/blob/main/RNN_from_scratch.ipynb\" target=\"_parent\"><img src=\"https://colab.research.google.com/assets/colab-badge.svg\" alt=\"Open In Colab\"/></a>"
      ]
    },
    {
      "cell_type": "markdown",
      "metadata": {
        "id": "mwdZdmZgPpoB"
      },
      "source": [
        "* Stock prices\r\n",
        "* Weather forecast\r\n",
        "* electricity demand\r\n",
        "\r\n",
        "* audio\r\n",
        "* writings\r\n",
        "\r\n",
        "* birth and death rates\r\n",
        "* driving car"
      ]
    },
    {
      "cell_type": "markdown",
      "metadata": {
        "id": "yH3orBfvnul1"
      },
      "source": [
        "# Traditional times series models\r\n"
      ]
    },
    {
      "cell_type": "markdown",
      "metadata": {
        "id": "X3ohjHTAn5FE"
      },
      "source": [
        "## AR\r\n",
        "\r\n",
        "$$x_{t+1} = x_{t} + \\epsilon_{t+1}$$"
      ]
    },
    {
      "cell_type": "code",
      "metadata": {
        "id": "mAZ2hxYVnpL8"
      },
      "source": [
        "import numpy as np\r\n"
      ],
      "execution_count": null,
      "outputs": []
    },
    {
      "cell_type": "code",
      "metadata": {
        "colab": {
          "base_uri": "https://localhost:8080/"
        },
        "id": "5B7hFf6x0Vhx",
        "outputId": "8526eb0d-8db9-4fda-f899-e07a3177e62d"
      },
      "source": [
        "np.random.normal(1)"
      ],
      "execution_count": null,
      "outputs": [
        {
          "output_type": "execute_result",
          "data": {
            "text/plain": [
              "0.7067415599789142"
            ]
          },
          "metadata": {
            "tags": []
          },
          "execution_count": 20
        }
      ]
    },
    {
      "cell_type": "code",
      "metadata": {
        "id": "T2Z64OqISXU4"
      },
      "source": [
        "np.random.randn(10)"
      ],
      "execution_count": null,
      "outputs": []
    },
    {
      "cell_type": "code",
      "metadata": {
        "id": "wyKXvx3z0l7m"
      },
      "source": [
        "x_list = []\r\n",
        "x_t = 1.0\r\n",
        "for i in range(100):\r\n",
        "    x_t = -0.0*x_t + np.random.normal(1)\r\n",
        "    x_list.append(x_t)"
      ],
      "execution_count": null,
      "outputs": []
    },
    {
      "cell_type": "code",
      "metadata": {
        "colab": {
          "base_uri": "https://localhost:8080/"
        },
        "id": "tnPxZaQ_1LKF",
        "outputId": "f66b4205-a845-457f-94b9-3622a4c310ca"
      },
      "source": [
        "x_list"
      ],
      "execution_count": null,
      "outputs": [
        {
          "output_type": "execute_result",
          "data": {
            "text/plain": [
              "[1.7025730117952549,\n",
              " 1.1151957904662049,\n",
              " 0.2609232592540841,\n",
              " 4.096514149745586,\n",
              " 0.7436547124425122,\n",
              " 1.1478648718087257,\n",
              " 0.8890199202935758,\n",
              " 1.343257671959877,\n",
              " 0.4065119268314694,\n",
              " 0.32900886990153666,\n",
              " 2.576873778608382,\n",
              " 2.327363086643431,\n",
              " 1.9016537105567513,\n",
              " 0.7544356356164471,\n",
              " 0.5062274250124047,\n",
              " 2.8045270081388365,\n",
              " 1.6474778633282958,\n",
              " 1.6348630130363409,\n",
              " 1.04466856909959,\n",
              " 0.24819589691973765,\n",
              " -0.7598645752363673,\n",
              " -0.21580097666814502,\n",
              " -0.07647010700329737,\n",
              " 3.113839137603454,\n",
              " -0.5067301018451473,\n",
              " 0.6773978974203171,\n",
              " 1.6908362466497362,\n",
              " 0.674180393108139,\n",
              " 1.1446849000591663,\n",
              " 2.4122393450160553,\n",
              " -0.0890059316817422,\n",
              " -0.954769242315936,\n",
              " 0.11049068028223241,\n",
              " 1.4947319162991874,\n",
              " 0.7761134837235822,\n",
              " 1.442796441370414,\n",
              " 1.578693637367835,\n",
              " 0.20810530480113043,\n",
              " 1.2868784728852805,\n",
              " 0.33916055283436086,\n",
              " 2.2273429732891605,\n",
              " 2.3911525064663057,\n",
              " -0.5156655119789946,\n",
              " 1.8844822892355415,\n",
              " 1.7223468315618549,\n",
              " 0.8262305520736937,\n",
              " 0.798712202189645,\n",
              " -0.7734331647048773,\n",
              " -0.4513134516945383,\n",
              " -0.06992085899162737,\n",
              " 1.2836567767027174,\n",
              " 2.267796050673498,\n",
              " -0.5871912258577741,\n",
              " 0.3414172625277503,\n",
              " -0.01858895645754033,\n",
              " 0.7505275522942586,\n",
              " -0.1389625177388356,\n",
              " 0.6123884538739893,\n",
              " 2.351579856068043,\n",
              " 1.9047814833546857,\n",
              " 0.15222934662065213,\n",
              " 1.32289747727124,\n",
              " 0.31518367534448555,\n",
              " 0.30950048541649366,\n",
              " -0.0027815229213561388,\n",
              " -0.4471556717665288,\n",
              " 0.8491076556923499,\n",
              " 1.419073413655511,\n",
              " 0.1047570742064492,\n",
              " 0.8470471783032778,\n",
              " 1.642132580292178,\n",
              " 2.223664085991011,\n",
              " 0.5028603641275364,\n",
              " 2.2676555848557323,\n",
              " 0.9690319001273828,\n",
              " 1.555334637228594,\n",
              " 1.0261756977453012,\n",
              " 3.119337150392381,\n",
              " 2.025350326407053,\n",
              " -0.44792040315568427,\n",
              " 0.6026783424201686,\n",
              " 1.5481442262762686,\n",
              " 1.0774264309040742,\n",
              " 1.461088434180271,\n",
              " 0.9611442919554629,\n",
              " 1.1257603066896678,\n",
              " 0.5156845208497933,\n",
              " 1.446377960118633,\n",
              " 1.6891891818440326,\n",
              " 3.041949416505999,\n",
              " 0.008257024577027372,\n",
              " 0.1245234063730325,\n",
              " 0.9088075851500218,\n",
              " 0.3346100788858828,\n",
              " 1.168758836157301,\n",
              " 0.10174503811523561,\n",
              " 0.580708290335597,\n",
              " 1.8399237117987532,\n",
              " 0.3839096717796634,\n",
              " 2.135963200710224]"
            ]
          },
          "metadata": {
            "tags": []
          },
          "execution_count": 22
        }
      ]
    },
    {
      "cell_type": "code",
      "metadata": {
        "id": "fa-3FcpR1MbF"
      },
      "source": [
        "import matplotlib.pyplot as plt\r\n"
      ],
      "execution_count": null,
      "outputs": []
    },
    {
      "cell_type": "code",
      "metadata": {
        "colab": {
          "base_uri": "https://localhost:8080/",
          "height": 282
        },
        "id": "CY3Ylmk11ayX",
        "outputId": "d27beb96-b2e6-4c01-b3ac-1420e0463619"
      },
      "source": [
        "plt.plot(x_list)"
      ],
      "execution_count": null,
      "outputs": [
        {
          "output_type": "execute_result",
          "data": {
            "text/plain": [
              "[<matplotlib.lines.Line2D at 0x7fc9b20882e8>]"
            ]
          },
          "metadata": {
            "tags": []
          },
          "execution_count": 24
        },
        {
          "output_type": "display_data",
          "data": {
            "image/png": "[encoded data removed]",
            "text/plain": [
              "<Figure size 432x288 with 1 Axes>"
            ]
          },
          "metadata": {
            "tags": [],
            "needs_background": "light"
          }
        }
      ]
    },
    {
      "cell_type": "code",
      "metadata": {
        "id": "lQAGLBk51dKb"
      },
      "source": [
        ""
      ],
      "execution_count": null,
      "outputs": []
    }
  ]
}